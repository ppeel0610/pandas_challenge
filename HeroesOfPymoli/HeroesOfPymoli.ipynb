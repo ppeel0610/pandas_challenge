{
 "cells": [
  {
   "cell_type": "code",
   "execution_count": null,
   "metadata": {},
   "outputs": [],
   "source": [
    "#import dependencies \n",
    "import pandas as pd "
   ]
  },
  {
   "cell_type": "code",
   "execution_count": null,
   "metadata": {},
   "outputs": [],
   "source": [
    "#create path to the csv file \n",
    "csv_path = \"Resources/purchase_data.csv\"\n",
    "#Read the csv file and create data frame\n",
    "game_info_df = pd.read.csv(csv_path)\n",
    "#check to see df\n",
    "game_info_df"
   ]
  },
  {
   "cell_type": "code",
   "execution_count": null,
   "metadata": {},
   "outputs": [],
   "source": [
    "# Total Number of Players\n",
    "game_info_df[\"SN\"].sum()"
   ]
  },
  {
   "cell_type": "code",
   "execution_count": null,
   "metadata": {},
   "outputs": [],
   "source": [
    "# Number of Unique Items\n",
    "unique_items_df = [\"Item ID\"].unique()\n",
    "unique_items_df\n",
    "# Average Purchase Price\n",
    "average_price_df = game_info_df[\"Price\"].mean()\n",
    "average_price_df\n",
    "# Total Number of Purchases\n",
    "\n",
    "# Total Revenue"
   ]
  }
 ],
 "metadata": {
  "kernelspec": {
   "display_name": "Python 3",
   "language": "python",
   "name": "python3"
  },
  "language_info": {
   "codemirror_mode": {
    "name": "ipython",
    "version": 3
   },
   "file_extension": ".py",
   "mimetype": "text/x-python",
   "name": "python",
   "nbconvert_exporter": "python",
   "pygments_lexer": "ipython3",
   "version": "3.8.3"
  }
 },
 "nbformat": 4,
 "nbformat_minor": 4
}

{
 "cells": [
  {
   "cell_type": "markdown",
   "metadata": {},
   "source": [
    "## District Summary\n",
    "Create a high level snapshot (in table form) of the district's key metrics, including:\n",
    "Total Schools\n",
    "Total Students\n",
    "Total Budget\n",
    "Average Math Score\n",
    "Average Reading Score\n",
    "% Passing Math (The percentage of students that passed math.)\n",
    "% Passing Reading (The percentage of students that passed reading.)\n",
    "% Overall Passing (The percentage of students that passed math and reading.)"
   ]
  }
 ],
 "metadata": {
  "kernelspec": {
   "display_name": "Python 3",
   "language": "python",
   "name": "python3"
  },
  "language_info": {
   "codemirror_mode": {
    "name": "ipython",
    "version": 3
   },
   "file_extension": ".py",
   "mimetype": "text/x-python",
   "name": "python",
   "nbconvert_exporter": "python",
   "pygments_lexer": "ipython3",
   "version": "3.8.3"
  }
 },
 "nbformat": 4,
 "nbformat_minor": 4
}
